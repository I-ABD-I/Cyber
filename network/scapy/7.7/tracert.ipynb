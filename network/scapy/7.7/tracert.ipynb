{
 "cells": [
  {
   "cell_type": "code",
   "execution_count": 4,
   "metadata": {},
   "outputs": [
    {
     "name": "stdout",
     "output_type": "stream",
     "text": [
      "###[ IP ]### \n",
      "  version   = 4\n",
      "  ihl       = None\n",
      "  tos       = 0x0\n",
      "  len       = None\n",
      "  id        = 1\n",
      "  flags     = \n",
      "  frag      = 0\n",
      "  ttl       = 1\n",
      "  proto     = icmp\n",
      "  chksum    = None\n",
      "  src       = 172.18.28.24\n",
      "  dst       = Net(\"www.google.com/32\")\n",
      "  \\options   \\\n",
      "###[ ICMP ]### \n",
      "     type      = echo-request\n",
      "     code      = 0\n",
      "     chksum    = None\n",
      "     id        = 0x0\n",
      "     seq       = 0x0\n",
      "     unused    = ''\n",
      "\n",
      "Begin emission:\n",
      "Finished sending 1 packets.\n",
      "\n",
      "Received 2 packets, got 1 answers, remaining 0 packets\n",
      "first ip is 172.18.255.254\n",
      "Begin emission:\n",
      "Finished sending 1 packets.\n",
      "\n",
      "Received 2 packets, got 1 answers, remaining 0 packets\n",
      "second ip is 77.137.180.133\n"
     ]
    }
   ],
   "source": [
    "from scapy.all import sr1\n",
    "from scapy.layers.inet import IP, ICMP\n",
    "tracert = IP(dst=\"www.google.com\", ttl = 1) / ICMP()\n",
    "tracert.show()\n",
    "\n",
    "res = sr1(tracert)\n",
    "print(f\"first ip is {res[IP].src}\")\n",
    "tracert[IP].ttl = 2\n",
    "res = sr1(tracert)\n",
    "print(f\"second ip is {res[IP].src}\")"
   ]
  }
 ],
 "metadata": {
  "kernelspec": {
   "display_name": ".venv",
   "language": "python",
   "name": "python3"
  },
  "language_info": {
   "codemirror_mode": {
    "name": "ipython",
    "version": 3
   },
   "file_extension": ".py",
   "mimetype": "text/x-python",
   "name": "python",
   "nbconvert_exporter": "python",
   "pygments_lexer": "ipython3",
   "version": "3.12.1"
  }
 },
 "nbformat": 4,
 "nbformat_minor": 2
}
