{
 "cells": [
  {
   "cell_type": "code",
   "execution_count": 5,
   "metadata": {},
   "outputs": [],
   "source": [
    "from scapy.all import sniff\n",
    "from scapy.layers.inet import Ether"
   ]
  },
  {
   "cell_type": "code",
   "execution_count": 8,
   "metadata": {},
   "outputs": [
    {
     "name": "stdout",
     "output_type": "stream",
     "text": [
      "58:00:bb:9f:e0:01\n",
      "58:00:bb:9f:e0:01\n",
      "58:00:bb:9f:e0:01\n",
      "58:00:bb:9f:e0:01\n",
      "58:00:bb:9f:e0:01\n",
      "58:00:bb:9f:e0:01\n",
      "58:00:bb:9f:e0:01\n",
      "58:00:bb:9f:e0:01\n",
      "58:00:bb:9f:e0:01\n",
      "58:00:bb:9f:e0:01\n"
     ]
    }
   ],
   "source": [
    "def filter(pkt):\n",
    "    return Ether in pkt and pkt[Ether].dst == 'e0:2b:e9:dd:7e:6c'\n",
    "\n",
    "frames = sniff(lfilter=filter, count=10, prn=lambda x: print(x[Ether].src))\n",
    "\n"
   ]
  }
 ],
 "metadata": {
  "kernelspec": {
   "display_name": ".venv",
   "language": "python",
   "name": "python3"
  },
  "language_info": {
   "codemirror_mode": {
    "name": "ipython",
    "version": 3
   },
   "file_extension": ".py",
   "mimetype": "text/x-python",
   "name": "python",
   "nbconvert_exporter": "python",
   "pygments_lexer": "ipython3",
   "version": "3.12.1"
  }
 },
 "nbformat": 4,
 "nbformat_minor": 2
}
