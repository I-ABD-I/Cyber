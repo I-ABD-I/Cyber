{
 "cells": [
  {
   "cell_type": "code",
   "execution_count": 24,
   "metadata": {},
   "outputs": [
    {
     "name": "stdout",
     "output_type": "stream",
     "text": [
      "###[ TCP ]### \n",
      "  sport     = ftp_data\n",
      "  dport     = http\n",
      "  seq       = 0\n",
      "  ack       = 0\n",
      "  dataofs   = None\n",
      "  reserved  = 0\n",
      "  flags     = S\n",
      "  window    = 8192\n",
      "  chksum    = None\n",
      "  urgptr    = 0\n",
      "  options   = ''\n",
      "\n"
     ]
    }
   ],
   "source": [
    "from scapy.layers.inet import TCP, IP\n",
    "from scapy.all import sr1, send\n",
    "syn_segment = TCP()\n",
    "syn_segment.show()"
   ]
  },
  {
   "cell_type": "code",
   "execution_count": 25,
   "metadata": {},
   "outputs": [
    {
     "name": "stdout",
     "output_type": "stream",
     "text": [
      "###[ TCP ]### \n",
      "  sport     = ftp_data\n",
      "  dport     = http\n",
      "  seq       = 123\n",
      "  ack       = 0\n",
      "  dataofs   = None\n",
      "  reserved  = 0\n",
      "  flags     = S\n",
      "  window    = 8192\n",
      "  chksum    = None\n",
      "  urgptr    = 0\n",
      "  options   = ''\n",
      "\n"
     ]
    }
   ],
   "source": [
    "syn_segment = TCP(dport=80, seq=123, flags=\"S\")\n",
    "syn_segment.show()"
   ]
  },
  {
   "cell_type": "code",
   "execution_count": 26,
   "metadata": {},
   "outputs": [
    {
     "name": "stdout",
     "output_type": "stream",
     "text": [
      "###[ IP ]### \n",
      "  version   = 4\n",
      "  ihl       = None\n",
      "  tos       = 0x0\n",
      "  len       = None\n",
      "  id        = 1\n",
      "  flags     = \n",
      "  frag      = 0\n",
      "  ttl       = 64\n",
      "  proto     = tcp\n",
      "  chksum    = None\n",
      "  src       = 172.18.28.24\n",
      "  dst       = Net(\"www.google.com/32\")\n",
      "  \\options   \\\n",
      "###[ TCP ]### \n",
      "     sport     = ftp_data\n",
      "     dport     = http\n",
      "     seq       = 123\n",
      "     ack       = 0\n",
      "     dataofs   = None\n",
      "     reserved  = 0\n",
      "     flags     = S\n",
      "     window    = 8192\n",
      "     chksum    = None\n",
      "     urgptr    = 0\n",
      "     options   = ''\n",
      "\n"
     ]
    }
   ],
   "source": [
    "syn_pkt = IP(dst=\"www.google.com\")/syn_segment\n",
    "syn_pkt.show()"
   ]
  },
  {
   "cell_type": "code",
   "execution_count": 29,
   "metadata": {},
   "outputs": [
    {
     "name": "stdout",
     "output_type": "stream",
     "text": [
      "Begin emission:\n",
      "Finished sending 1 packets.\n",
      "\n",
      "Received 2 packets, got 1 answers, remaining 0 packets\n",
      "###[ IP ]### \n",
      "  version   = 4\n",
      "  ihl       = 5\n",
      "  tos       = 0x0\n",
      "  len       = 44\n",
      "  id        = 0\n",
      "  flags     = DF\n",
      "  frag      = 0\n",
      "  ttl       = 63\n",
      "  proto     = tcp\n",
      "  chksum    = 0x55e2\n",
      "  src       = 142.251.142.196\n",
      "  dst       = 172.18.28.24\n",
      "  \\options   \\\n",
      "###[ TCP ]### \n",
      "     sport     = http\n",
      "     dport     = ftp_data\n",
      "     seq       = 2595679037\n",
      "     ack       = 124\n",
      "     dataofs   = 6\n",
      "     reserved  = 0\n",
      "     flags     = SA\n",
      "     window    = 42340\n",
      "     chksum    = 0x85f3\n",
      "     urgptr    = 0\n",
      "     options   = [('MSS', 1460)]\n",
      "###[ Padding ]### \n",
      "        load      = '\\x00\\x00'\n",
      "\n",
      "###[ IP ]### \n",
      "  version   = 4\n",
      "  ihl       = None\n",
      "  tos       = 0x0\n",
      "  len       = None\n",
      "  id        = 1\n",
      "  flags     = \n",
      "  frag      = 0\n",
      "  ttl       = 64\n",
      "  proto     = tcp\n",
      "  chksum    = None\n",
      "  src       = 172.18.28.24\n",
      "  dst       = Net(\"www.google.com/32\")\n",
      "  \\options   \\\n",
      "###[ TCP ]### \n",
      "     sport     = ftp_data\n",
      "     dport     = http\n",
      "     seq       = 125\n",
      "     ack       = 2595679038\n",
      "     dataofs   = None\n",
      "     reserved  = 0\n",
      "     flags     = A\n",
      "     window    = 8192\n",
      "     chksum    = None\n",
      "     urgptr    = 0\n",
      "     options   = ''\n",
      "\n",
      "\n",
      "Sent 1 packets.\n"
     ]
    }
   ],
   "source": [
    "syn_ack_pkt = sr1(syn_pkt)\n",
    "syn_ack_pkt.show()\n",
    "ack = syn_ack_pkt.seq + 1\n",
    "seq = syn_ack_pkt.ack + 1\n",
    "ack_pkt = IP(dst=\"www.google.com\")/TCP(dport=80, sport=syn_ack_pkt.dport, seq=seq, ack=ack, flags=\"A\")\n",
    "ack_pkt.show()\n",
    "send(ack_pkt)"
   ]
  },
  {
   "cell_type": "code",
   "execution_count": null,
   "metadata": {},
   "outputs": [],
   "source": []
  }
 ],
 "metadata": {
  "kernelspec": {
   "display_name": ".venv",
   "language": "python",
   "name": "python3"
  },
  "language_info": {
   "codemirror_mode": {
    "name": "ipython",
    "version": 3
   },
   "file_extension": ".py",
   "mimetype": "text/x-python",
   "name": "python",
   "nbconvert_exporter": "python",
   "pygments_lexer": "ipython3",
   "version": "3.12.1"
  }
 },
 "nbformat": 4,
 "nbformat_minor": 2
}
